{
 "cells": [
  {
   "cell_type": "code",
   "execution_count": 29,
   "metadata": {},
   "outputs": [],
   "source": [
    "import numpy as np\n",
    "from copy import deepcopy\n",
    "from scipy.stats import multivariate_normal, invgamma, invwishart, norm, bernoulli"
   ]
  },
  {
   "cell_type": "code",
   "execution_count": 6,
   "metadata": {},
   "outputs": [
    {
     "output_type": "stream",
     "name": "stdout",
     "text": "<scipy.stats._multivariate.multivariate_normal_frozen object at 0x00000276E821F808>\n"
    }
   ],
   "source": [
    "multivariate_normal(np.zeros(100), np.ones((100, 100)) * 0.1 + np.diag(np.ones(100) * 0.9))"
   ]
  },
  {
   "cell_type": "code",
   "execution_count": 8,
   "metadata": {},
   "outputs": [],
   "source": [
    "P = 104\n",
    "K = 2\n",
    "R = 50\n",
    "n1 = 150\n",
    "n2 = 50\n",
    "# generate data\n",
    "mu01 = [0.8] * 4\n",
    "mu02 = [-0.8] * 4\n",
    "B1 = np.ones((2, 4)) * 0.8\n",
    "B2 = np.ones((2, 4)) * 0.8\n",
    "Sigma1 = np.ones((4, 4)) * 0.5\n",
    "Sigma1 += np.diag(np.ones(4) * 0.5)\n",
    "Sigma2 = deepcopy(Sigma1)\n",
    "noise = multivariate_normal(np.zeros(100), np.ones((100, 100)) * 0.1 + np.diag(np.ones(100) * 0.9))"
   ]
  },
  {
   "cell_type": "code",
   "execution_count": 18,
   "metadata": {},
   "outputs": [],
   "source": [
    "a0 = 3\n",
    "ak = [3] * K\n",
    "b0 = 0.1\n",
    "bk = [0.1] * K\n",
    "b0k = [0] * K\n",
    "dk = [P + 3] * K\n",
    "Q = 0.1 * np.diag(np.ones(P))\n",
    "m_0k = [0] * K\n",
    "h = 4\n",
    "h1 = 1\n",
    "e = -3\n",
    "f = 0\n",
    "wrk = np.array([np.ones(50) * 0.05] * K)"
   ]
  },
  {
   "cell_type": "code",
   "execution_count": 20,
   "metadata": {},
   "outputs": [
    {
     "output_type": "execute_result",
     "data": {
      "text/plain": "array([0.05, 0.05, 0.05, 0.05, 0.05, 0.05, 0.05, 0.05, 0.05, 0.05, 0.05,\n       0.05, 0.05, 0.05, 0.05, 0.05, 0.05, 0.05, 0.05, 0.05, 0.05, 0.05,\n       0.05, 0.05, 0.05, 0.05, 0.05, 0.05, 0.05, 0.05, 0.05, 0.05, 0.05,\n       0.05, 0.05, 0.05, 0.05, 0.05, 0.05, 0.05, 0.05, 0.05, 0.05, 0.05,\n       0.05, 0.05, 0.05, 0.05, 0.05, 0.05])"
     },
     "metadata": {},
     "execution_count": 20
    }
   ],
   "source": [
    "wrk[0,:]"
   ]
  },
  {
   "cell_type": "code",
   "execution_count": 21,
   "metadata": {},
   "outputs": [
    {
     "output_type": "execute_result",
     "data": {
      "text/plain": "array([0.05, 0.05, 0.05, 0.05, 0.05, 0.05, 0.05, 0.05, 0.05, 0.05, 0.05,\n       0.05, 0.05, 0.05, 0.05, 0.05, 0.05, 0.05, 0.05, 0.05, 0.05, 0.05,\n       0.05, 0.05, 0.05, 0.05, 0.05, 0.05, 0.05, 0.05, 0.05, 0.05, 0.05,\n       0.05, 0.05, 0.05, 0.05, 0.05, 0.05, 0.05, 0.05, 0.05, 0.05, 0.05,\n       0.05, 0.05, 0.05, 0.05, 0.05, 0.05])"
     },
     "metadata": {},
     "execution_count": 21
    }
   ],
   "source": [
    "wrk[1,:]"
   ]
  },
  {
   "cell_type": "code",
   "execution_count": 33,
   "metadata": {},
   "outputs": [
    {
     "output_type": "execute_result",
     "data": {
      "text/plain": "25.09830183503579"
     },
     "metadata": {},
     "execution_count": 33
    }
   ],
   "source": [
    "np.var(norm(3, 5).rvs(10000))"
   ]
  },
  {
   "cell_type": "code",
   "execution_count": null,
   "metadata": {},
   "outputs": [],
   "source": []
  }
 ],
 "metadata": {
  "language_info": {
   "codemirror_mode": {
    "name": "ipython",
    "version": 3
   },
   "file_extension": ".py",
   "mimetype": "text/x-python",
   "name": "python",
   "nbconvert_exporter": "python",
   "pygments_lexer": "ipython3",
   "version": "3.7.7-final"
  },
  "orig_nbformat": 2,
  "kernelspec": {
   "name": "python37664bit99610cc3f4b8477baa0bd3b3e6cb597f",
   "display_name": "Python 3.7.6 64-bit"
  }
 },
 "nbformat": 4,
 "nbformat_minor": 2
}